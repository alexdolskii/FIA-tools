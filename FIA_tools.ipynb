{
 "cells": [
  {
   "cell_type": "markdown",
   "metadata": {
    "id": "-Kij-16x1x4u"
   },
   "source": [
    "# FIA-tools\n",
    "\n",
    "FIA-tools quantifies and measures the area of double-strand break (DSB) foci in multi-level 3D confocal images of cancer-associated fibroblasts. The program can be adapted to analyze any foci/specks detected by immunofluorescence (IF) staining, utilizing a nuclei mask for segmentation.\n",
    "\n",
    "\n",
    "The main input for all of the programms is `input_paths.json`. Therefore, previously it have to be modified by a user. This file should contain a list of folders with `.nd2` images. The file can contain as many folders as needed.\n",
    "\n",
    "In the example, `input_paths.json` contains only one path to the directory of interest.\n",
    "\n",
    "```json\n",
    "{\n",
    "  \"paths_to_files\": [\n",
    "    \"/data/example.nd2\"\n",
    "  ]\n",
    "}\n",
    "```\n",
    "\n",
    "Also, before starting the program, please make sure you know how many fluorescence channels you have (e.g., DAPI, Cy5) and their order in the file. You can check this by opening the image using the standard method in the GPU application [FiJi](https://imagej.net/software/fiji/downloads)"
   ]
  },
  {
   "cell_type": "markdown",
   "metadata": {},
   "source": [
    "*Imortant note* \n",
    "\n",
    "Before running the notebook please check the following:\n",
    "\n",
    "1. The provided environment *fia-tools* was activated (for Mac or Linux systems)\n",
    "2. The valid paths to the images was added in `input_paths.json`"
   ]
  },
  {
   "cell_type": "markdown",
   "metadata": {},
   "source": [
    "## Structure of result folders \n",
    "\n",
    "```\n",
    "├── 1.nd2\n",
    "├── 2.nd2\n",
    "├── foci_analysis\n",
    "│   └── Results_20250406_190129\n",
    "│       ├── 1_labeled_nuclei.png\n",
    "│       ├── 2_labeled_nuclei.png\n",
    "│       ├── 4_log.log\n",
    "│       └── all_results_with_coloc_universal.csv\n",
    "└── foci_assay\n",
    "    ├── 2_val_log.log\n",
    "    ├── 3_val_log.log\n",
    "    ├── Foci_Masks\n",
    "    │   └── Foci_1_Channel_3_20250406_190114\n",
    "    │       └── foci_log.log\n",
    "    │       \n",
    "    ├── Nuclei_masks\n",
    "    │   ├── 2_log.log\n",
    "    │   ├── Final_Nuclei_Mask_20250406_190054\n",
    "    │   │   └── nuclei_log.log\n",
    "    │   └── Nuclei_StarDist_mask_processed_20250406_190049\n",
    "    │       \n",
    "    └── selected_channels\n",
    "        ├── 1_log.log\n",
    "        ├── Foci       \n",
    "        ├── Nuclei  \n",
    "        └── image_metadata.txt\n",
    "```\n",
    "\n",
    "The final results are saved in *foci_analysis*, whereas the intermediate results can be found in *foci_assay*"
   ]
  },
  {
   "cell_type": "markdown",
   "metadata": {
    "id": "-UC10lFM5iCC"
   },
   "source": [
    "## 1_select_channels.py\n",
    "\n",
    "This script processes confocal image stacks - `.nd2` files with Z-stacks - to analyze nuclei and foci signal channels. It is designed explicitly for immunofluorescence (IF) experiments, allowing users to extract and project specific image channels from raw .nd2 files. The results are saved as processed images in newly created directories. The script leverages ImageJ with Bio-Formats for image manipulation and Fiji plugins for Z-projection and resizing.\n",
    "\n",
    "### How It Works\n",
    "1. *Input*: The user provides a JSON file containing paths to directories with .nd2 image stacks.\n",
    "\n",
    "2. *Channel Selection*: The script prompts users to specify channel numbers for nuclei and foci staining.\n",
    "\n",
    "3. *Image Processing*:\n",
    "  - Extracts specified channels for nuclei and foci.\n",
    "  - Performs Z-projection:\n",
    "    - Maximum Intensity (Max) for nuclei channel:\n",
    "    - Standard Deviation (SD) for foci channel.\n",
    "  - Resizes images to standard dimensions (X:1024; Y:1024) and converts them to 8-bit grayscale.\n",
    "\n",
    "4. *Output*: Process results are saved in a folder named `selected_channels`, created within each input directory, and organized into subfolders:\n",
    "  - `Nuclei`,\n",
    "  - `Foci`\n",
    "\n",
    "### The example of usage\n",
    "\n",
    "```bash\n",
    "chmod +x code/1_select_channels.py\n",
    "code/1_select_channels.py -i input_paths.json\n",
    "```"
   ]
  },
  {
   "cell_type": "code",
   "execution_count": null,
   "metadata": {},
   "outputs": [],
   "source": [
    "# Run cell\n",
    "chmod +x code/1_select_channels.py\n",
    "code/1_select_channels.py -i input_paths.json"
   ]
  },
  {
   "cell_type": "markdown",
   "metadata": {
    "id": "FNcjVgmFPSz1"
   },
   "source": [
    "## 2_nuclei_mask_generation\n",
    "\n",
    "This script processes nuclei images using a machine learning-based segmentation approach powered by the pre-trained [StarDist](https://github.com/stardist/stardist) model. It is designed explicitly for high-precision nuclei segmentation in 2D fluorescent microscopy images. The output is a new set of processed masks highlighting detected nuclei, saved in well-organized directories for downstream analysis.\n",
    "\n",
    "### How It Works\n",
    "\n",
    "1. *Input*: The script takes a `input_paths.lson` file listing directories containing .tif images of nuclei.\n",
    "\n",
    "  - Reads .tif images from specified directories.\n",
    "\n",
    "  - Skips files that are not 8-bit grayscale.\n",
    "\n",
    "2. *Normalization*:\n",
    "\n",
    "  - Applies contrast/intensity normalization for further analysis\n",
    "\n",
    "3. *Segmentation*: The StarDist model predicts labeled instances of nuclei with adjustable thresholds:\n",
    "\n",
    "  - nms_thresh=0.9: Controls how close detected objects can be before merging.\n",
    "\n",
    "  - prob_thresh=0.7: Minimum confidence required for nuclei detection.\n",
    "\n",
    "4. *Output*: Processed masks are saved in a new directory `Nuclei_masks`. Raw masks are saved in  *Nuclei_StarDist_mask_processed_* created for each input directory with the naming convention *_StarDist_processed*. Final adjusted masks can be found in folders that start with *Final_Nuclei_Mask* \n",
    "\n",
    "### The example of usage\n",
    "\n",
    "1. Make the script executable\n",
    "\n",
    "``` bash\n",
    "chmod +x code/2_nuclei_mask_generation.py\n",
    "code/2_nuclei_mask_generation.py -i input_paths.json\n",
    "```\n",
    "\n",
    "To customize the thresholds for nuclei please use other particle_size parameter\n",
    "\n",
    "``` bash\n",
    "code/2_nuclei_mask_generation.py -i input_paths.json -p 2000\n",
    "```"
   ]
  },
  {
   "cell_type": "code",
   "execution_count": null,
   "metadata": {},
   "outputs": [],
   "source": [
    "# Run cell\n",
    "!chmod +x code/2_nuclei_mask_generation.py\n",
    "!code/2_nuclei_mask_generation.py -i input_paths.json"
   ]
  },
  {
   "cell_type": "markdown",
   "metadata": {
    "id": "2D6UpJyTPStl"
   },
   "source": [
    "## 3_foci_mask_generation.py\n",
    "\n",
    "This script is designed to create binary masks for nuclei and foci in microscopy images, enabling the downstream analysis of the size and area of foci within the nuclei region. It follows the previous step, where the StarDist standard model was used to predict nuclei for a wide range of object sizes. After generating the binary masks, this script provides functionality to optimize the size threshold for nuclei objects, ensuring greater accuracy in subsequent analyses. Additionally, it converts images to binary format (black and white masks) to facilitate clear object segmentation and measurement.\n",
    "\n",
    "### How It Works\n",
    "\n",
    "1. *Input*: Takes directories containing the previous step's results (nuclei segmentation from StarDist). Requires user-specified thresholds for nuclei object size and foci intensity.\n",
    "\n",
    "2. *Processing*:\n",
    "\n",
    "  - Nuclei Masks:\n",
    "    - Applies size-based thresholds to filter out unwanted nuclei objects.\n",
    "    - Converts filtered nuclei masks into binary format.\n",
    "\n",
    "  - Foci Masks:\n",
    "    - Applies intensity thresholds to identify foci regions.\n",
    "    - Additional watershed segmentation to separate overlapping objects.\n",
    "    - Converts foci masks into binary format.\n",
    "    - Associates foci with nuclei regions for future spatial analysis.\n",
    "3. *Output*: Saves processed masks in `Foci_Masks` folder with results timestamped for traceability.\n",
    "\n",
    "\n",
    "### The example of usage\n",
    "\n",
    "\n",
    "```bash\n",
    "chmod +x code/3_foci_mask_generation.py\n",
    "code/3_foci_mask_generation.py -i input_paths.json\n",
    "```\n",
    "To customize the thresholds for foci please use other foci_threshold parameter\n",
    "\n",
    "``` bash\n",
    "code/3_foci_mask_generation.py  -i input_paths.json -f 100\n",
    "```"
   ]
  },
  {
   "cell_type": "code",
   "execution_count": null,
   "metadata": {},
   "outputs": [],
   "source": [
    "# Run cell\n",
    "!chmod +x code/3_foci_mask_generation.py\n",
    "!code/3_foci_mask_generation.py -i input_paths.json"
   ]
  },
  {
   "cell_type": "markdown",
   "metadata": {
    "id": "0C0I8bj0PSlx"
   },
   "source": [
    "## 4_foci_quantification.py\n",
    "\n",
    "This script represents the final step in a microscopy image analysis pipeline. It performs detailed quantification of nuclei and foci and computes summaries for detected objects' size, count, and total area. It uses binary masks from the previous steps and combines foci and nuclei masks to analyze the spatial distribution of foci within the nuclei region. Results are saved in detailed summaries for individual objects (single nuclei/foci) and aggregated data per picture (a summary of objects per folder).\n",
    "\n",
    "### How It Works\n",
    "\n",
    "1. *Input*: Requires a `input_paths.json` file listing paths to directories containing:\n",
    "  - Binary nuclei masks: *Final_Nuclei_Mask*.\n",
    "  - Binary foci masks: *Foci_Mask*.\n",
    "  - Masks generated from previous pipeline steps are analyzed together.\n",
    "2. *Processing*:\n",
    "  - Nuclei Analysis:\n",
    "    - Measures object count, total area, and average size for detected nuclei.\n",
    "    - Output a summary file for each image and a combined summary for all images.\n",
    "  - Foci Analysis:\n",
    "    - Combines foci and nuclei masks using a logical AND operation to isolate foci within nuclei.\n",
    "    - Analyzes the size and spatial distribution of foci within nuclei regions.\n",
    "    - Outputs detailed and aggregated summaries.\n",
    "3. *Output*: Save all results in `foci_analysis` folder\n",
    "\n",
    "  ### The example of usage\n",
    "\n",
    "\n",
    "```bash\n",
    "chmod +x code/4_foci_quantification.py\n",
    "code/4_foci_quantification.py -i input_paths.json\n",
    "```\n"
   ]
  },
  {
   "cell_type": "code",
   "execution_count": null,
   "metadata": {},
   "outputs": [],
   "source": [
    "# Run cell\n",
    "!chmod +x code/4_foci_quantification.py\n",
    "!code/4_foci_quantification.py -i input_paths.json"
   ]
  },
  {
   "cell_type": "markdown",
   "metadata": {},
   "source": [
    "### Results\n",
    "\n",
    "If all the cells were executed successfully, your results have been saved in the folders mentioned in `input_paths.json`. \n",
    "\n",
    "Good luck with your analysis! 🌟"
   ]
  }
 ],
 "metadata": {
  "colab": {
   "authorship_tag": "ABX9TyOYpotAAGJQ3mTYZglFAKvB",
   "provenance": []
  },
  "kernelspec": {
   "display_name": "Python 3 (ipykernel)",
   "language": "python",
   "name": "python3"
  },
  "language_info": {
   "codemirror_mode": {
    "name": "ipython",
    "version": 3
   },
   "file_extension": ".py",
   "mimetype": "text/x-python",
   "name": "python",
   "nbconvert_exporter": "python",
   "pygments_lexer": "ipython3",
   "version": "3.12.7"
  }
 },
 "nbformat": 4,
 "nbformat_minor": 4
}
